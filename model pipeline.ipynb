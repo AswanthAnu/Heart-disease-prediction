{
 "cells": [
  {
   "cell_type": "code",
   "execution_count": 1,
   "id": "f724b530",
   "metadata": {},
   "outputs": [],
   "source": [
    "import pandas as pd\n",
    "import numpy as np"
   ]
  },
  {
   "cell_type": "code",
   "execution_count": 2,
   "id": "b00821bf",
   "metadata": {},
   "outputs": [],
   "source": [
    "import warnings\n",
    "warnings.filterwarnings('ignore')"
   ]
  },
  {
   "cell_type": "code",
   "execution_count": 3,
   "id": "0021a0b2",
   "metadata": {},
   "outputs": [],
   "source": [
    "df = pd.read_csv('cleaned_heart_disease.csv')"
   ]
  },
  {
   "cell_type": "code",
   "execution_count": 4,
   "id": "aa814638",
   "metadata": {},
   "outputs": [
    {
     "data": {
      "text/html": [
       "<div>\n",
       "<style scoped>\n",
       "    .dataframe tbody tr th:only-of-type {\n",
       "        vertical-align: middle;\n",
       "    }\n",
       "\n",
       "    .dataframe tbody tr th {\n",
       "        vertical-align: top;\n",
       "    }\n",
       "\n",
       "    .dataframe thead th {\n",
       "        text-align: right;\n",
       "    }\n",
       "</style>\n",
       "<table border=\"1\" class=\"dataframe\">\n",
       "  <thead>\n",
       "    <tr style=\"text-align: right;\">\n",
       "      <th></th>\n",
       "      <th>age</th>\n",
       "      <th>sex</th>\n",
       "      <th>chest pain type</th>\n",
       "      <th>resting blood pressure</th>\n",
       "      <th>serum cholestrol</th>\n",
       "      <th>fasting blood sugar</th>\n",
       "      <th>resting ecg</th>\n",
       "      <th>max heartrate</th>\n",
       "      <th>exercise induced angina</th>\n",
       "      <th>oldpeak</th>\n",
       "      <th>slope</th>\n",
       "      <th>number of major vessels</th>\n",
       "      <th>thal</th>\n",
       "      <th>heart risk</th>\n",
       "    </tr>\n",
       "  </thead>\n",
       "  <tbody>\n",
       "    <tr>\n",
       "      <th>0</th>\n",
       "      <td>52</td>\n",
       "      <td>1</td>\n",
       "      <td>0</td>\n",
       "      <td>125</td>\n",
       "      <td>212</td>\n",
       "      <td>0</td>\n",
       "      <td>1</td>\n",
       "      <td>168</td>\n",
       "      <td>0</td>\n",
       "      <td>1.0</td>\n",
       "      <td>2</td>\n",
       "      <td>2</td>\n",
       "      <td>3</td>\n",
       "      <td>0</td>\n",
       "    </tr>\n",
       "    <tr>\n",
       "      <th>1</th>\n",
       "      <td>53</td>\n",
       "      <td>1</td>\n",
       "      <td>0</td>\n",
       "      <td>140</td>\n",
       "      <td>203</td>\n",
       "      <td>1</td>\n",
       "      <td>0</td>\n",
       "      <td>155</td>\n",
       "      <td>1</td>\n",
       "      <td>3.1</td>\n",
       "      <td>0</td>\n",
       "      <td>0</td>\n",
       "      <td>3</td>\n",
       "      <td>0</td>\n",
       "    </tr>\n",
       "    <tr>\n",
       "      <th>2</th>\n",
       "      <td>70</td>\n",
       "      <td>1</td>\n",
       "      <td>0</td>\n",
       "      <td>145</td>\n",
       "      <td>174</td>\n",
       "      <td>0</td>\n",
       "      <td>1</td>\n",
       "      <td>125</td>\n",
       "      <td>1</td>\n",
       "      <td>2.6</td>\n",
       "      <td>0</td>\n",
       "      <td>0</td>\n",
       "      <td>3</td>\n",
       "      <td>0</td>\n",
       "    </tr>\n",
       "    <tr>\n",
       "      <th>3</th>\n",
       "      <td>61</td>\n",
       "      <td>1</td>\n",
       "      <td>0</td>\n",
       "      <td>148</td>\n",
       "      <td>203</td>\n",
       "      <td>0</td>\n",
       "      <td>1</td>\n",
       "      <td>161</td>\n",
       "      <td>0</td>\n",
       "      <td>0.0</td>\n",
       "      <td>2</td>\n",
       "      <td>1</td>\n",
       "      <td>3</td>\n",
       "      <td>0</td>\n",
       "    </tr>\n",
       "    <tr>\n",
       "      <th>4</th>\n",
       "      <td>62</td>\n",
       "      <td>0</td>\n",
       "      <td>0</td>\n",
       "      <td>138</td>\n",
       "      <td>294</td>\n",
       "      <td>1</td>\n",
       "      <td>1</td>\n",
       "      <td>106</td>\n",
       "      <td>0</td>\n",
       "      <td>1.9</td>\n",
       "      <td>1</td>\n",
       "      <td>3</td>\n",
       "      <td>2</td>\n",
       "      <td>0</td>\n",
       "    </tr>\n",
       "  </tbody>\n",
       "</table>\n",
       "</div>"
      ],
      "text/plain": [
       "   age  sex  chest pain type  resting blood pressure  serum cholestrol  \\\n",
       "0   52    1                0                     125               212   \n",
       "1   53    1                0                     140               203   \n",
       "2   70    1                0                     145               174   \n",
       "3   61    1                0                     148               203   \n",
       "4   62    0                0                     138               294   \n",
       "\n",
       "   fasting blood sugar  resting ecg  max heartrate  exercise induced angina  \\\n",
       "0                    0            1            168                        0   \n",
       "1                    1            0            155                        1   \n",
       "2                    0            1            125                        1   \n",
       "3                    0            1            161                        0   \n",
       "4                    1            1            106                        0   \n",
       "\n",
       "   oldpeak  slope  number of major vessels  thal  heart risk  \n",
       "0      1.0      2                        2     3           0  \n",
       "1      3.1      0                        0     3           0  \n",
       "2      2.6      0                        0     3           0  \n",
       "3      0.0      2                        1     3           0  \n",
       "4      1.9      1                        3     2           0  "
      ]
     },
     "execution_count": 4,
     "metadata": {},
     "output_type": "execute_result"
    }
   ],
   "source": [
    "df.head()"
   ]
  },
  {
   "cell_type": "markdown",
   "id": "3070a729",
   "metadata": {},
   "source": [
    "#### Spliting into features and target"
   ]
  },
  {
   "cell_type": "code",
   "execution_count": 5,
   "id": "9fe02c31",
   "metadata": {},
   "outputs": [],
   "source": [
    "X = df.drop('heart risk', axis=1)\n",
    "y = df['heart risk']"
   ]
  },
  {
   "cell_type": "markdown",
   "id": "48195e97",
   "metadata": {},
   "source": [
    "#### Splitting the data"
   ]
  },
  {
   "cell_type": "code",
   "execution_count": 6,
   "id": "ba14eae0",
   "metadata": {},
   "outputs": [
    {
     "data": {
      "text/plain": [
       "((211, 13), (91, 13), (211,), (91,))"
      ]
     },
     "execution_count": 6,
     "metadata": {},
     "output_type": "execute_result"
    }
   ],
   "source": [
    "# importing train_test_split for splitting\n",
    "from sklearn.model_selection import train_test_split\n",
    "\n",
    "X_train, X_test, y_train, y_test = train_test_split(X, y, test_size=0.3, random_state=42)\n",
    "\n",
    "X_train.shape, X_test.shape, y_train.shape, y_test.shape"
   ]
  },
  {
   "cell_type": "markdown",
   "id": "a7777b26",
   "metadata": {},
   "source": [
    "#### Scaling the train and test data"
   ]
  },
  {
   "cell_type": "code",
   "execution_count": 7,
   "id": "780c8528",
   "metadata": {
    "scrolled": true
   },
   "outputs": [],
   "source": [
    "# importing standardscaler for scaling\n",
    "from sklearn.preprocessing import StandardScaler\n",
    "\n",
    "scaler = StandardScaler()\n",
    "scaler.fit(X_train[['age', 'resting blood pressure', 'serum cholestrol', 'max heartrate', 'oldpeak']])\n",
    "\n",
    "X_train[['age', 'resting blood pressure', 'serum cholestrol', 'max heartrate', 'oldpeak']] = scaler.transform(X_train[['age', 'resting blood pressure', 'serum cholestrol', 'max heartrate', 'oldpeak']])\n",
    "X_test[['age', 'resting blood pressure', 'serum cholestrol', 'max heartrate', 'oldpeak']] = scaler.transform(X_test[['age', 'resting blood pressure', 'serum cholestrol', 'max heartrate', 'oldpeak']])"
   ]
  },
  {
   "cell_type": "markdown",
   "id": "318c8d50",
   "metadata": {},
   "source": [
    "#### Model creation"
   ]
  },
  {
   "cell_type": "code",
   "execution_count": 8,
   "id": "7168a0f0",
   "metadata": {},
   "outputs": [
    {
     "name": "stdout",
     "output_type": "stream",
     "text": [
      "confusion metrics of train data :\n",
      " [[ 69  21]\n",
      " [ 10 111]]\n",
      "confusion metrics of test data :\n",
      " [[38 10]\n",
      " [ 4 39]]\n"
     ]
    }
   ],
   "source": [
    "# importing Logistic Regression and evaluation metrics\n",
    "from sklearn.linear_model import LogisticRegression\n",
    "from sklearn.metrics import confusion_matrix, precision_score, recall_score, f1_score\n",
    "\n",
    "lg_model = LogisticRegression()\n",
    "                    \n",
    "lg_model.fit(X_train, y_train)\n",
    "\n",
    "lg_train_predict = lg_model.predict(X_train)\n",
    "lg_test_predict = lg_model.predict(X_test)\n",
    "\n",
    "print('confusion metrics of train data :\\n', confusion_matrix(y_train, lg_train_predict))\n",
    "print('confusion metrics of test data :\\n', confusion_matrix(y_test, lg_test_predict))"
   ]
  },
  {
   "cell_type": "code",
   "execution_count": 9,
   "id": "d117b666",
   "metadata": {},
   "outputs": [
    {
     "name": "stdout",
     "output_type": "stream",
     "text": [
      "       Precision    Recall  F1-Score\n",
      "Test    0.795918  0.906977  0.847826\n",
      "Train   0.840909  0.917355  0.877470\n"
     ]
    }
   ],
   "source": [
    "# training set\n",
    "train_precision = precision_score(y_train, lg_train_predict)\n",
    "train_recall = recall_score(y_train, lg_train_predict)\n",
    "train_f1 = f1_score(y_train, lg_train_predict)\n",
    "\n",
    "# test set\n",
    "test_precision = precision_score(y_test, lg_test_predict)\n",
    "test_recall = recall_score(y_test, lg_test_predict)\n",
    "test_f1 = f1_score(y_test, lg_test_predict)\n",
    "\n",
    "metrics = {'Precision': [test_precision, train_precision],\n",
    "           'Recall': [test_recall, train_recall],\n",
    "           'F1-Score': [test_f1, train_f1]}\n",
    "df = pd.DataFrame(metrics, index=['Test','Train'])\n",
    "\n",
    "print(df)"
   ]
  },
  {
   "cell_type": "code",
   "execution_count": 10,
   "id": "2ba0eb17",
   "metadata": {},
   "outputs": [
    {
     "name": "stdout",
     "output_type": "stream",
     "text": [
      "confusion metrics of train data :\n",
      " [[ 90   0]\n",
      " [  0 121]]\n",
      "confusion metrics of test data :\n",
      " [[37 11]\n",
      " [ 9 34]]\n"
     ]
    }
   ],
   "source": [
    "# importing Decision Tree and evaluation metrics\n",
    "from sklearn.tree import DecisionTreeClassifier\n",
    "\n",
    "dt_model = DecisionTreeClassifier()\n",
    "                    \n",
    "dt_model.fit(X_train, y_train)\n",
    "\n",
    "dt_train_predict = dt_model.predict(X_train)\n",
    "dt_test_predict = dt_model.predict(X_test)\n",
    "\n",
    "print('confusion metrics of train data :\\n', confusion_matrix(y_train, dt_train_predict))\n",
    "print('confusion metrics of test data :\\n', confusion_matrix(y_test, dt_test_predict))"
   ]
  },
  {
   "cell_type": "code",
   "execution_count": 11,
   "id": "f4f5f603",
   "metadata": {},
   "outputs": [
    {
     "name": "stdout",
     "output_type": "stream",
     "text": [
      "confusion metrics of train data :\n",
      " [[ 70  20]\n",
      " [  7 114]]\n",
      "confusion metrics of test data :\n",
      " [[34 14]\n",
      " [ 3 40]]\n"
     ]
    }
   ],
   "source": [
    "# importing SVC and evaluation metrics\n",
    "from sklearn.svm import SVC\n",
    "\n",
    "svc_model = SVC()\n",
    "                    \n",
    "svc_model.fit(X_train, y_train)\n",
    "\n",
    "svc_train_predict = svc_model.predict(X_train)\n",
    "svc_test_predict = svc_model.predict(X_test)\n",
    "\n",
    "print('confusion metrics of train data :\\n', confusion_matrix(y_train, svc_train_predict))\n",
    "print('confusion metrics of test data :\\n', confusion_matrix(y_test, svc_test_predict))"
   ]
  },
  {
   "cell_type": "code",
   "execution_count": 12,
   "id": "f77f5233",
   "metadata": {},
   "outputs": [
    {
     "data": {
      "image/png": "[encoded data removed]",
      "text/plain": [
       "<Figure size 1000x700 with 1 Axes>"
      ]
     },
     "metadata": {},
     "output_type": "display_data"
    }
   ],
   "source": [
    "# plot the 7 most important features \n",
    "import matplotlib.pyplot as plt\n",
    "plt.figure(figsize=(10,7))\n",
    "feat_importances = pd.Series(dt_model.feature_importances_, index = X_train.columns)\n",
    "feat_importances.nlargest(5).plot(kind='barh');"
   ]
  },
  {
   "cell_type": "markdown",
   "id": "73533716",
   "metadata": {},
   "source": [
    "#### Hyperparameter tuning"
   ]
  },
  {
   "cell_type": "code",
   "execution_count": 13,
   "id": "e8779f53",
   "metadata": {},
   "outputs": [
    {
     "data": {
      "text/plain": [
       "0.7682170542635658"
      ]
     },
     "execution_count": 13,
     "metadata": {},
     "output_type": "execute_result"
    }
   ],
   "source": [
    "# importing randomforest and gridsearchcv\n",
    "from sklearn.ensemble import RandomForestClassifier\n",
    "from sklearn.model_selection import GridSearchCV, cross_val_score\n",
    "\n",
    "rf_model = RandomForestClassifier(n_estimators=10, max_depth=None, min_samples_split=2, random_state=0)\n",
    "rf_model.fit(X_train, y_train)\n",
    "scores = cross_val_score(rf_model, X_train, y_train, cv=5)\n",
    "scores.mean()"
   ]
  },
  {
   "cell_type": "code",
   "execution_count": 14,
   "id": "e37a7acf",
   "metadata": {},
   "outputs": [
    {
     "data": {
      "image/png": "[encoded data removed]",
      "text/plain": [
       "<Figure size 1000x700 with 1 Axes>"
      ]
     },
     "metadata": {},
     "output_type": "display_data"
    }
   ],
   "source": [
    "# plot the 7 most important features \n",
    "import matplotlib.pyplot as plt\n",
    "plt.figure(figsize=(10,7))\n",
    "feat_importances = pd.Series(rf_model.feature_importances_, index = X_train.columns)\n",
    "feat_importances.nlargest(6).plot(kind='barh');"
   ]
  },
  {
   "cell_type": "code",
   "execution_count": 33,
   "id": "8517965b",
   "metadata": {},
   "outputs": [],
   "source": [
    "# Selecting the features that have feature importance\n",
    "\n",
    "X_train_if = X_train[['max heartrate', 'chest pain type', 'thal', 'serum cholestrol', 'oldpeak', 'resting blood pressure']]\n",
    "X_test_if = X_test[['max heartrate', 'chest pain type', 'thal', 'serum cholestrol', 'oldpeak', 'resting blood pressure']]"
   ]
  },
  {
   "cell_type": "code",
   "execution_count": 34,
   "id": "af453636",
   "metadata": {},
   "outputs": [],
   "source": [
    "params = {\n",
    "    'n_estimators' : (5, 10, 15, 20, 50, 100, 200),\n",
    "    'criterion' : ('gini', 'entropy'), \n",
    "    'max_depth' :(5, 10, 15, 20, 25, 30)\n",
    "}"
   ]
  },
  {
   "cell_type": "code",
   "execution_count": 35,
   "id": "9505d0fc",
   "metadata": {},
   "outputs": [],
   "source": [
    "grid_svc2 = GridSearchCV(estimator=RandomForestClassifier(), param_grid=params, cv=5, error_score='raise')"
   ]
  },
  {
   "cell_type": "code",
   "execution_count": 36,
   "id": "b6538791",
   "metadata": {},
   "outputs": [
    {
     "data": {
      "text/html": [
       "<style>#sk-container-id-4 {color: black;background-color: white;}#sk-container-id-4 pre{padding: 0;}#sk-container-id-4 div.sk-toggleable {background-color: white;}#sk-container-id-4 label.sk-toggleable__label {cursor: pointer;display: block;width: 100%;margin-bottom: 0;padding: 0.3em;box-sizing: border-box;text-align: center;}#sk-container-id-4 label.sk-toggleable__label-arrow:before {content: \"▸\";float: left;margin-right: 0.25em;color: #696969;}#sk-container-id-4 label.sk-toggleable__label-arrow:hover:before {color: black;}#sk-container-id-4 div.sk-estimator:hover label.sk-toggleable__label-arrow:before {color: black;}#sk-container-id-4 div.sk-toggleable__content {max-height: 0;max-width: 0;overflow: hidden;text-align: left;background-color: #f0f8ff;}#sk-container-id-4 div.sk-toggleable__content pre {margin: 0.2em;color: black;border-radius: 0.25em;background-color: #f0f8ff;}#sk-container-id-4 input.sk-toggleable__control:checked~div.sk-toggleable__content {max-height: 200px;max-width: 100%;overflow: auto;}#sk-container-id-4 input.sk-toggleable__control:checked~label.sk-toggleable__label-arrow:before {content: \"▾\";}#sk-container-id-4 div.sk-estimator input.sk-toggleable__control:checked~label.sk-toggleable__label {background-color: #d4ebff;}#sk-container-id-4 div.sk-label input.sk-toggleable__control:checked~label.sk-toggleable__label {background-color: #d4ebff;}#sk-container-id-4 input.sk-hidden--visually {border: 0;clip: rect(1px 1px 1px 1px);clip: rect(1px, 1px, 1px, 1px);height: 1px;margin: -1px;overflow: hidden;padding: 0;position: absolute;width: 1px;}#sk-container-id-4 div.sk-estimator {font-family: monospace;background-color: #f0f8ff;border: 1px dotted black;border-radius: 0.25em;box-sizing: border-box;margin-bottom: 0.5em;}#sk-container-id-4 div.sk-estimator:hover {background-color: #d4ebff;}#sk-container-id-4 div.sk-parallel-item::after {content: \"\";width: 100%;border-bottom: 1px solid gray;flex-grow: 1;}#sk-container-id-4 div.sk-label:hover label.sk-toggleable__label {background-color: #d4ebff;}#sk-container-id-4 div.sk-serial::before {content: \"\";position: absolute;border-left: 1px solid gray;box-sizing: border-box;top: 0;bottom: 0;left: 50%;z-index: 0;}#sk-container-id-4 div.sk-serial {display: flex;flex-direction: column;align-items: center;background-color: white;padding-right: 0.2em;padding-left: 0.2em;position: relative;}#sk-container-id-4 div.sk-item {position: relative;z-index: 1;}#sk-container-id-4 div.sk-parallel {display: flex;align-items: stretch;justify-content: center;background-color: white;position: relative;}#sk-container-id-4 div.sk-item::before, #sk-container-id-4 div.sk-parallel-item::before {content: \"\";position: absolute;border-left: 1px solid gray;box-sizing: border-box;top: 0;bottom: 0;left: 50%;z-index: -1;}#sk-container-id-4 div.sk-parallel-item {display: flex;flex-direction: column;z-index: 1;position: relative;background-color: white;}#sk-container-id-4 div.sk-parallel-item:first-child::after {align-self: flex-end;width: 50%;}#sk-container-id-4 div.sk-parallel-item:last-child::after {align-self: flex-start;width: 50%;}#sk-container-id-4 div.sk-parallel-item:only-child::after {width: 0;}#sk-container-id-4 div.sk-dashed-wrapped {border: 1px dashed gray;margin: 0 0.4em 0.5em 0.4em;box-sizing: border-box;padding-bottom: 0.4em;background-color: white;}#sk-container-id-4 div.sk-label label {font-family: monospace;font-weight: bold;display: inline-block;line-height: 1.2em;}#sk-container-id-4 div.sk-label-container {text-align: center;}#sk-container-id-4 div.sk-container {/* jupyter's `normalize.less` sets `[hidden] { display: none; }` but bootstrap.min.css set `[hidden] { display: none !important; }` so we also need the `!important` here to be able to override the default hidden behavior on the sphinx rendered scikit-learn.org. See: https://github.com/scikit-learn/scikit-learn/issues/21755 */display: inline-block !important;position: relative;}#sk-container-id-4 div.sk-text-repr-fallback {display: none;}</style><div id=\"sk-container-id-4\" class=\"sk-top-container\"><div class=\"sk-text-repr-fallback\"><pre>GridSearchCV(cv=5, error_score=&#x27;raise&#x27;, estimator=RandomForestClassifier(),\n",
       "             param_grid={&#x27;criterion&#x27;: (&#x27;gini&#x27;, &#x27;entropy&#x27;),\n",
       "                         &#x27;max_depth&#x27;: (5, 10, 15, 20, 25, 30),\n",
       "                         &#x27;n_estimators&#x27;: (5, 10, 15, 20, 50, 100, 200)})</pre><b>In a Jupyter environment, please rerun this cell to show the HTML representation or trust the notebook. <br />On GitHub, the HTML representation is unable to render, please try loading this page with nbviewer.org.</b></div><div class=\"sk-container\" hidden><div class=\"sk-item sk-dashed-wrapped\"><div class=\"sk-label-container\"><div class=\"sk-label sk-toggleable\"><input class=\"sk-toggleable__control sk-hidden--visually\" id=\"sk-estimator-id-10\" type=\"checkbox\" ><label for=\"sk-estimator-id-10\" class=\"sk-toggleable__label sk-toggleable__label-arrow\">GridSearchCV</label><div class=\"sk-toggleable__content\"><pre>GridSearchCV(cv=5, error_score=&#x27;raise&#x27;, estimator=RandomForestClassifier(),\n",
       "             param_grid={&#x27;criterion&#x27;: (&#x27;gini&#x27;, &#x27;entropy&#x27;),\n",
       "                         &#x27;max_depth&#x27;: (5, 10, 15, 20, 25, 30),\n",
       "                         &#x27;n_estimators&#x27;: (5, 10, 15, 20, 50, 100, 200)})</pre></div></div></div><div class=\"sk-parallel\"><div class=\"sk-parallel-item\"><div class=\"sk-item\"><div class=\"sk-label-container\"><div class=\"sk-label sk-toggleable\"><input class=\"sk-toggleable__control sk-hidden--visually\" id=\"sk-estimator-id-11\" type=\"checkbox\" ><label for=\"sk-estimator-id-11\" class=\"sk-toggleable__label sk-toggleable__label-arrow\">estimator: RandomForestClassifier</label><div class=\"sk-toggleable__content\"><pre>RandomForestClassifier()</pre></div></div></div><div class=\"sk-serial\"><div class=\"sk-item\"><div class=\"sk-estimator sk-toggleable\"><input class=\"sk-toggleable__control sk-hidden--visually\" id=\"sk-estimator-id-12\" type=\"checkbox\" ><label for=\"sk-estimator-id-12\" class=\"sk-toggleable__label sk-toggleable__label-arrow\">RandomForestClassifier</label><div class=\"sk-toggleable__content\"><pre>RandomForestClassifier()</pre></div></div></div></div></div></div></div></div></div></div>"
      ],
      "text/plain": [
       "GridSearchCV(cv=5, error_score='raise', estimator=RandomForestClassifier(),\n",
       "             param_grid={'criterion': ('gini', 'entropy'),\n",
       "                         'max_depth': (5, 10, 15, 20, 25, 30),\n",
       "                         'n_estimators': (5, 10, 15, 20, 50, 100, 200)})"
      ]
     },
     "execution_count": 36,
     "metadata": {},
     "output_type": "execute_result"
    }
   ],
   "source": [
    "grid_svc2.fit(X_train_if, y_train)"
   ]
  },
  {
   "cell_type": "code",
   "execution_count": 37,
   "id": "e0b665aa",
   "metadata": {},
   "outputs": [
    {
     "data": {
      "text/plain": [
       "{'criterion': 'entropy', 'max_depth': 5, 'n_estimators': 15}"
      ]
     },
     "execution_count": 37,
     "metadata": {},
     "output_type": "execute_result"
    }
   ],
   "source": [
    "grid_svc2.best_params_"
   ]
  },
  {
   "cell_type": "code",
   "execution_count": 38,
   "id": "0b7c6c33",
   "metadata": {},
   "outputs": [
    {
     "name": "stdout",
     "output_type": "stream",
     "text": [
      "confusion metrics of train data :\n",
      " [[ 88   2]\n",
      " [  0 121]]\n",
      "confusion metrics of test data :\n",
      " [[35 13]\n",
      " [ 9 34]]\n"
     ]
    }
   ],
   "source": [
    "# creating the tuned model\n",
    "cv_rf_classifier = RandomForestClassifier(n_estimators=15, max_depth=15, criterion='entropy')\n",
    "cv_rf_classifier.fit(X_train_if, y_train)\n",
    "\n",
    "cv_train_predict = cv_rf_classifier.predict(X_train_if)\n",
    "cv_test_predict = cv_rf_classifier.predict(X_test_if)\n",
    "\n",
    "print('confusion metrics of train data :\\n', confusion_matrix(y_train, cv_train_predict))\n",
    "print('confusion metrics of test data :\\n', confusion_matrix(y_test, cv_test_predict))"
   ]
  },
  {
   "cell_type": "code",
   "execution_count": null,
   "id": "30ef8aab",
   "metadata": {},
   "outputs": [],
   "source": []
  },
  {
   "cell_type": "code",
   "execution_count": null,
   "id": "35eb743a",
   "metadata": {},
   "outputs": [],
   "source": []
  }
 ],
 "metadata": {
  "kernelspec": {
   "display_name": "bobbykernal",
   "language": "python",
   "name": "bobbykernal"
  },
  "language_info": {
   "codemirror_mode": {
    "name": "ipython",
    "version": 3
   },
   "file_extension": ".py",
   "mimetype": "text/x-python",
   "name": "python",
   "nbconvert_exporter": "python",
   "pygments_lexer": "ipython3",
   "version": "3.10.6"
  }
 },
 "nbformat": 4,
 "nbformat_minor": 5
}
